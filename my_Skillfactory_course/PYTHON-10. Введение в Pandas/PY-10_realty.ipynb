{
 "cells": [
  {
   "cell_type": "code",
   "execution_count": 10,
   "metadata": {},
   "outputs": [
    {
     "data": {
      "text/plain": [
       "3"
      ]
     },
     "metadata": {},
     "output_type": "display_data"
    }
   ],
   "source": [
    "import pandas as pd\n",
    "melb_data = pd.read_csv('data/melb_data.csv', sep=',')\n",
    "landsize_1 = melb_data.loc[3521, 'Landsize']\n",
    "landsize_2 = melb_data.loc[1690, 'Landsize']\n",
    "display(round((landsize_1/landsize_2)))"
   ]
  }
 ],
 "metadata": {
  "kernelspec": {
   "display_name": "Python 3.9.10 64-bit",
   "language": "python",
   "name": "python3"
  },
  "language_info": {
   "codemirror_mode": {
    "name": "ipython",
    "version": 3
   },
   "file_extension": ".py",
   "mimetype": "text/x-python",
   "name": "python",
   "nbconvert_exporter": "python",
   "pygments_lexer": "ipython3",
   "version": "3.9.10"
  },
  "orig_nbformat": 4,
  "vscode": {
   "interpreter": {
    "hash": "3f814c69b2aa8f7f8987133ca1ea55ad0b4501c39b4ea6ed7ece08436f75e8c6"
   }
  }
 },
 "nbformat": 4,
 "nbformat_minor": 2
}
