{
 "cells": [
  {
   "cell_type": "code",
   "execution_count": 19,
   "metadata": {},
   "outputs": [
    {
     "data": {
      "text/html": [
       "<div>\n",
       "<style scoped>\n",
       "    .dataframe tbody tr th:only-of-type {\n",
       "        vertical-align: middle;\n",
       "    }\n",
       "\n",
       "    .dataframe tbody tr th {\n",
       "        vertical-align: top;\n",
       "    }\n",
       "\n",
       "    .dataframe thead th {\n",
       "        text-align: right;\n",
       "    }\n",
       "</style>\n",
       "<table border=\"1\" class=\"dataframe\">\n",
       "  <thead>\n",
       "    <tr style=\"text-align: right;\">\n",
       "      <th></th>\n",
       "      <th>Дата создания</th>\n",
       "      <th>Order ID</th>\n",
       "      <th>ID Покупателя</th>\n",
       "      <th>Статус</th>\n",
       "      <th>Оплачен</th>\n",
       "      <th>Отменен</th>\n",
       "      <th>Отгружен</th>\n",
       "      <th>ID товара</th>\n",
       "      <th>Количество</th>\n",
       "    </tr>\n",
       "  </thead>\n",
       "  <tbody>\n",
       "    <tr>\n",
       "      <th>0</th>\n",
       "      <td>09.11.2019 21:55:51</td>\n",
       "      <td>9</td>\n",
       "      <td>10</td>\n",
       "      <td>Принят, ожидается оплата</td>\n",
       "      <td>Нет</td>\n",
       "      <td>Нет</td>\n",
       "      <td>Нет</td>\n",
       "      <td>103</td>\n",
       "      <td>5</td>\n",
       "    </tr>\n",
       "    <tr>\n",
       "      <th>1</th>\n",
       "      <td>09.11.2019 15:05:57</td>\n",
       "      <td>8</td>\n",
       "      <td>9</td>\n",
       "      <td>Принят, ожидается оплата</td>\n",
       "      <td>Нет</td>\n",
       "      <td>Нет</td>\n",
       "      <td>Нет</td>\n",
       "      <td>86</td>\n",
       "      <td>100</td>\n",
       "    </tr>\n",
       "    <tr>\n",
       "      <th>2</th>\n",
       "      <td>09.11.2019 15:05:57</td>\n",
       "      <td>8</td>\n",
       "      <td>9</td>\n",
       "      <td>Принят, ожидается оплата</td>\n",
       "      <td>Нет</td>\n",
       "      <td>Нет</td>\n",
       "      <td>Нет</td>\n",
       "      <td>104</td>\n",
       "      <td>10</td>\n",
       "    </tr>\n",
       "    <tr>\n",
       "      <th>3</th>\n",
       "      <td>09.11.2019 12:50:07</td>\n",
       "      <td>7</td>\n",
       "      <td>8</td>\n",
       "      <td>Принят, ожидается оплата</td>\n",
       "      <td>Нет</td>\n",
       "      <td>Нет</td>\n",
       "      <td>Нет</td>\n",
       "      <td>104</td>\n",
       "      <td>7</td>\n",
       "    </tr>\n",
       "    <tr>\n",
       "      <th>4</th>\n",
       "      <td>09.11.2019 12:00:00</td>\n",
       "      <td>6</td>\n",
       "      <td>1</td>\n",
       "      <td>Принят, ожидается оплата</td>\n",
       "      <td>Нет</td>\n",
       "      <td>Нет</td>\n",
       "      <td>Нет</td>\n",
       "      <td>104</td>\n",
       "      <td>5</td>\n",
       "    </tr>\n",
       "    <tr>\n",
       "      <th>5</th>\n",
       "      <td>09.11.2019 12:00:00</td>\n",
       "      <td>6</td>\n",
       "      <td>1</td>\n",
       "      <td>Принят, ожидается оплата</td>\n",
       "      <td>Нет</td>\n",
       "      <td>Нет</td>\n",
       "      <td>Нет</td>\n",
       "      <td>103</td>\n",
       "      <td>5</td>\n",
       "    </tr>\n",
       "    <tr>\n",
       "      <th>6</th>\n",
       "      <td>08.11.2019 08:36:22</td>\n",
       "      <td>5</td>\n",
       "      <td>5</td>\n",
       "      <td>Отменён</td>\n",
       "      <td>Нет</td>\n",
       "      <td>Да</td>\n",
       "      <td>Нет</td>\n",
       "      <td>124</td>\n",
       "      <td>1</td>\n",
       "    </tr>\n",
       "  </tbody>\n",
       "</table>\n",
       "</div>"
      ],
      "text/plain": [
       "         Дата создания  Order ID  ID Покупателя                    Статус  \\\n",
       "0  09.11.2019 21:55:51         9             10  Принят, ожидается оплата   \n",
       "1  09.11.2019 15:05:57         8              9  Принят, ожидается оплата   \n",
       "2  09.11.2019 15:05:57         8              9  Принят, ожидается оплата   \n",
       "3  09.11.2019 12:50:07         7              8  Принят, ожидается оплата   \n",
       "4  09.11.2019 12:00:00         6              1  Принят, ожидается оплата   \n",
       "5  09.11.2019 12:00:00         6              1  Принят, ожидается оплата   \n",
       "6  08.11.2019 08:36:22         5              5                   Отменён   \n",
       "\n",
       "  Оплачен Отменен Отгружен  ID товара  Количество  \n",
       "0     Нет     Нет      Нет        103           5  \n",
       "1     Нет     Нет      Нет         86         100  \n",
       "2     Нет     Нет      Нет        104          10  \n",
       "3     Нет     Нет      Нет        104           7  \n",
       "4     Нет     Нет      Нет        104           5  \n",
       "5     Нет     Нет      Нет        103           5  \n",
       "6     Нет      Да      Нет        124           1  "
      ]
     },
     "execution_count": 19,
     "metadata": {},
     "output_type": "execute_result"
    }
   ],
   "source": [
    "import pandas as pd\n",
    "\n",
    "orders_df = pd.read_csv('data/orders.csv', sep=';')\n",
    "orders_df.head(7)"
   ]
  },
  {
   "cell_type": "code",
   "execution_count": 20,
   "metadata": {},
   "outputs": [
    {
     "data": {
      "text/html": [
       "<div>\n",
       "<style scoped>\n",
       "    .dataframe tbody tr th:only-of-type {\n",
       "        vertical-align: middle;\n",
       "    }\n",
       "\n",
       "    .dataframe tbody tr th {\n",
       "        vertical-align: top;\n",
       "    }\n",
       "\n",
       "    .dataframe thead th {\n",
       "        text-align: right;\n",
       "    }\n",
       "</style>\n",
       "<table border=\"1\" class=\"dataframe\">\n",
       "  <thead>\n",
       "    <tr style=\"text-align: right;\">\n",
       "      <th></th>\n",
       "      <th>Product_ID</th>\n",
       "      <th>Name</th>\n",
       "      <th>Price</th>\n",
       "      <th>CURRENCY</th>\n",
       "    </tr>\n",
       "  </thead>\n",
       "  <tbody>\n",
       "    <tr>\n",
       "      <th>0</th>\n",
       "      <td>47</td>\n",
       "      <td>Шатны Полосатый рейс</td>\n",
       "      <td>2999</td>\n",
       "      <td>RUR</td>\n",
       "    </tr>\n",
       "    <tr>\n",
       "      <th>1</th>\n",
       "      <td>51</td>\n",
       "      <td>Платье Аленький цветочек</td>\n",
       "      <td>4999</td>\n",
       "      <td>RUR</td>\n",
       "    </tr>\n",
       "    <tr>\n",
       "      <th>2</th>\n",
       "      <td>53</td>\n",
       "      <td>Штаны Цветочная Поляна</td>\n",
       "      <td>4999</td>\n",
       "      <td>RUR</td>\n",
       "    </tr>\n",
       "    <tr>\n",
       "      <th>3</th>\n",
       "      <td>71</td>\n",
       "      <td>Платье Ночная Жизнь</td>\n",
       "      <td>7999</td>\n",
       "      <td>RUR</td>\n",
       "    </tr>\n",
       "    <tr>\n",
       "      <th>4</th>\n",
       "      <td>74</td>\n",
       "      <td>Платье Ночная Жизнь XXXL</td>\n",
       "      <td>8999</td>\n",
       "      <td>RUR</td>\n",
       "    </tr>\n",
       "    <tr>\n",
       "      <th>5</th>\n",
       "      <td>86</td>\n",
       "      <td>Носки Простые, муж</td>\n",
       "      <td>45</td>\n",
       "      <td>RUR</td>\n",
       "    </tr>\n",
       "    <tr>\n",
       "      <th>6</th>\n",
       "      <td>91</td>\n",
       "      <td>Носки Честные, муж</td>\n",
       "      <td>50</td>\n",
       "      <td>RUR</td>\n",
       "    </tr>\n",
       "  </tbody>\n",
       "</table>\n",
       "</div>"
      ],
      "text/plain": [
       "   Product_ID                      Name  Price CURRENCY\n",
       "0          47      Шатны Полосатый рейс   2999      RUR\n",
       "1          51  Платье Аленький цветочек   4999      RUR\n",
       "2          53    Штаны Цветочная Поляна   4999      RUR\n",
       "3          71       Платье Ночная Жизнь   7999      RUR\n",
       "4          74  Платье Ночная Жизнь XXXL   8999      RUR\n",
       "5          86        Носки Простые, муж     45      RUR\n",
       "6          91        Носки Честные, муж     50      RUR"
      ]
     },
     "execution_count": 20,
     "metadata": {},
     "output_type": "execute_result"
    }
   ],
   "source": [
    "product_df = pd.read_csv('data/products.csv', sep=';')\n",
    "product_df.head(7)"
   ]
  },
  {
   "cell_type": "code",
   "execution_count": 14,
   "metadata": {},
   "outputs": [
    {
     "data": {
      "text/plain": [
       "17    0\n",
       "Name: Order ID, dtype: int64"
      ]
     },
     "execution_count": 14,
     "metadata": {},
     "output_type": "execute_result"
    }
   ],
   "source": [
    "orders_products = orders_df.merge(\n",
    "    product_df, \n",
    "    left_on='ID товара',\n",
    "    right_on='Product_ID',\n",
    "    how='left')\n",
    "orders_products.tail(1)['Order ID']"
   ]
  },
  {
   "cell_type": "code",
   "execution_count": 18,
   "metadata": {},
   "outputs": [
    {
     "data": {
      "text/plain": [
       "6    Носки беговые Camino\n",
       "Name: Name, dtype: object"
      ]
     },
     "execution_count": 18,
     "metadata": {},
     "output_type": "execute_result"
    }
   ],
   "source": [
    "orders_products[orders_products['Отменен'] == 'Да']['Name']"
   ]
  },
  {
   "cell_type": "code",
   "execution_count": 26,
   "metadata": {},
   "outputs": [
    {
     "data": {
      "text/plain": [
       "ID Покупателя\n",
       "7    17096.0\n",
       "5    13043.0\n",
       "8     1344.0\n",
       "1        0.0\n",
       "Name: Profit, dtype: float64"
      ]
     },
     "execution_count": 26,
     "metadata": {},
     "output_type": "execute_result"
    }
   ],
   "source": [
    "orders_products['Profit'] = orders_products['Price'] * orders_products['Количество']\n",
    "orders_products[orders_products['Оплачен'] == 'Да'].groupby('ID Покупателя')['Profit'].sum().sort_values(ascending=False)"
   ]
  }
 ],
 "metadata": {
  "kernelspec": {
   "display_name": "Python 3.9.10 64-bit",
   "language": "python",
   "name": "python3"
  },
  "language_info": {
   "codemirror_mode": {
    "name": "ipython",
    "version": 3
   },
   "file_extension": ".py",
   "mimetype": "text/x-python",
   "name": "python",
   "nbconvert_exporter": "python",
   "pygments_lexer": "ipython3",
   "version": "3.9.10"
  },
  "orig_nbformat": 4,
  "vscode": {
   "interpreter": {
    "hash": "3f814c69b2aa8f7f8987133ca1ea55ad0b4501c39b4ea6ed7ece08436f75e8c6"
   }
  }
 },
 "nbformat": 4,
 "nbformat_minor": 2
}
