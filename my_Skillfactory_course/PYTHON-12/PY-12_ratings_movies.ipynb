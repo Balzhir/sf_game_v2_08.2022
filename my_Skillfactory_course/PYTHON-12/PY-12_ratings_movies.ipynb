{
 "cells": [
  {
   "cell_type": "code",
   "execution_count": 1,
   "metadata": {},
   "outputs": [
    {
     "name": "stdout",
     "output_type": "stream",
     "text": [
      "        Unnamed: 0  userId  movieId  rating                 date  \\\n",
      "0                0       1        1     4.0  2000-07-30 18:45:03   \n",
      "1                1       1        3     4.0  2000-07-30 18:20:47   \n",
      "2                2       1        6     4.0  2000-07-30 18:37:04   \n",
      "3                3       1       47     5.0  2000-07-30 19:03:35   \n",
      "4                4       1       50     5.0  2000-07-30 18:48:51   \n",
      "...            ...     ...      ...     ...                  ...   \n",
      "100831      100831     610   166534     4.0  2017-05-03 21:53:22   \n",
      "100832      100832     610   168248     5.0  2017-05-03 22:21:31   \n",
      "100833      100833     610   168250     5.0  2017-05-08 19:50:47   \n",
      "100834      100834     610   168252     5.0  2017-05-03 21:19:12   \n",
      "100835      100835     610   170875     3.0  2017-05-03 21:20:15   \n",
      "\n",
      "                                 title  \\\n",
      "0                     Toy Story (1995)   \n",
      "1              Grumpier Old Men (1995)   \n",
      "2                          Heat (1995)   \n",
      "3          Seven (a.k.a. Se7en) (1995)   \n",
      "4           Usual Suspects, The (1995)   \n",
      "...                                ...   \n",
      "100831                    Split (2017)   \n",
      "100832   John Wick: Chapter Two (2017)   \n",
      "100833                  Get Out (2017)   \n",
      "100834                    Logan (2017)   \n",
      "100835  The Fate of the Furious (2017)   \n",
      "\n",
      "                                             genres  \n",
      "0       Adventure|Animation|Children|Comedy|Fantasy  \n",
      "1                                    Comedy|Romance  \n",
      "2                             Action|Crime|Thriller  \n",
      "3                                  Mystery|Thriller  \n",
      "4                            Crime|Mystery|Thriller  \n",
      "...                                             ...  \n",
      "100831                        Drama|Horror|Thriller  \n",
      "100832                        Action|Crime|Thriller  \n",
      "100833                                       Horror  \n",
      "100834                                Action|Sci-Fi  \n",
      "100835                  Action|Crime|Drama|Thriller  \n",
      "\n",
      "[100836 rows x 7 columns]\n"
     ]
    }
   ],
   "source": [
    "import pandas as pd\n",
    "\n",
    "ratings_movies = pd.read_csv('data/ratings_movies.csv')\n",
    "print(ratings_movies)"
   ]
  }
 ],
 "metadata": {
  "kernelspec": {
   "display_name": "Python 3.9.10 64-bit",
   "language": "python",
   "name": "python3"
  },
  "language_info": {
   "codemirror_mode": {
    "name": "ipython",
    "version": 3
   },
   "file_extension": ".py",
   "mimetype": "text/x-python",
   "name": "python",
   "nbconvert_exporter": "python",
   "pygments_lexer": "ipython3",
   "version": "3.9.10"
  },
  "orig_nbformat": 4,
  "vscode": {
   "interpreter": {
    "hash": "3f814c69b2aa8f7f8987133ca1ea55ad0b4501c39b4ea6ed7ece08436f75e8c6"
   }
  }
 },
 "nbformat": 4,
 "nbformat_minor": 2
}
